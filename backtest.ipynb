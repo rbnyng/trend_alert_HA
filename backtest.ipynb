{
 "cells": [
  {
   "cell_type": "code",
   "execution_count": null,
   "metadata": {},
   "outputs": [],
   "source": [
    "import yfinance as yf\n",
    "import pandas as pd\n",
    "import numpy as np\n",
    "import os\n",
    "from helpers.hull_moving_average_concavity import calculate_hma_signals\n",
    "from helpers.smoothed_heikin_ashi import calculate_smoothed_heikin_ashi\n",
    "from helpers.apply_labels import apply_labels"
   ]
  },
  {
   "cell_type": "code",
   "execution_count": null,
   "metadata": {},
   "outputs": [],
   "source": [
    "data = yf.download('QQQ', start='2000-01-01').reset_index()\n",
    "\n",
    "data = calculate_smoothed_heikin_ashi(data)\n",
    "data = calculate_hma_signals(data)\n",
    "data['EMA_50'] = data['Close'].ewm(span=50, adjust=False).mean()\n",
    "data['EMA_200'] = data['Close'].ewm(span=200, adjust=False).mean()\n",
    "data = apply_labels(data)\n"
   ]
  },
  {
   "cell_type": "code",
   "execution_count": null,
   "metadata": {},
   "outputs": [],
   "source": [
    "data['Date'] = pd.to_datetime(data['Date'])\n",
    "\n",
    "# Merge the buy and sell signals into a single DataFrame by matching each buy with the next sell\n",
    "trades = pd.DataFrame(columns=['Buy Date', 'Sell Date', 'Buy Price', 'Sell Price'])\n",
    "\n",
    "# Track the index of the last sell to avoid matching previous sells\n",
    "last_sell_index = 0\n",
    "\n",
    "buy_signals = data[data['Alert'] == 'Long Alert']\n",
    "sell_signals = data[data['Alert'] == 'Sell Alert']\n",
    "\n",
    "for index, buy in buy_signals.iterrows():\n",
    "    # Find the next sell signal after the buy\n",
    "    next_sell = sell_signals[sell_signals['Date'] > buy['Date']]\n",
    "    if not next_sell.empty:\n",
    "        next_sell = next_sell.iloc[0]  # Take the first sell after the buy\n",
    "        if next_sell.name > last_sell_index:  # Check if it's a new sell signal\n",
    "            last_sell_index = next_sell.name\n",
    "            # Record the trade\n",
    "            new_row = {\n",
    "                'Buy Date': buy['Date'],\n",
    "                'Sell Date': next_sell['Date'],\n",
    "                'Buy Price': buy['Close'],\n",
    "                'Sell Price': next_sell['Close'],\n",
    "                'Profit': (next_sell['Close'] - buy['Close'])\n",
    "            }\n",
    "            new_row_df = pd.DataFrame([new_row])\n",
    "            trades = pd.concat([trades, new_row_df], ignore_index=True)\n",
    "\n",
    "# Calculate the % gain/loss for each trade\n",
    "trades['Return'] = (trades['Sell Price'] / trades['Buy Price'] - 1) * 100"
   ]
  },
  {
   "cell_type": "code",
   "execution_count": null,
   "metadata": {},
   "outputs": [],
   "source": [
    "investment_period_days = (trades['Sell Date'].max() - trades['Buy Date'].min()).days\n",
    "investment_period_years = investment_period_days / 365.25  # Average days in a year accounting for leap year\n",
    "\n",
    "initial_value = trades['Buy Price'].iloc[0]\n",
    "\n",
    "final_value = initial_value + trades['Profit'].sum()\n",
    "\n",
    "# Calculate CAGR\n",
    "cagr = (final_value / initial_value) ** (1 / investment_period_years) - 1\n",
    "\n",
    "print(f\"CAGR: {cagr * 100:.2f}%\")"
   ]
  },
  {
   "cell_type": "code",
   "execution_count": null,
   "metadata": {},
   "outputs": [],
   "source": [
    "buy_hold_entry = data.iloc[0]['Close']  # First available close price\n",
    "buy_hold_exit = data.iloc[-1]['Close']  # Last available close price\n",
    "\n",
    "# Calculate the total return for Buy and Hold\n",
    "buy_hold_profit = buy_hold_exit - buy_hold_entry\n",
    "buy_hold_return = (buy_hold_exit / buy_hold_entry - 1) * 100\n",
    "\n",
    "buy_hold_entry, buy_hold_exit, buy_hold_profit, buy_hold_return"
   ]
  },
  {
   "cell_type": "code",
   "execution_count": null,
   "metadata": {},
   "outputs": [],
   "source": [
    "investment_period_years = (data['Date'].iloc[-1] - data['Date'].iloc[0]).days / 365.25\n",
    "\n",
    "# CAGR for both strategies\n",
    "cagr_trading = ((trades['Sell Price'].iloc[-1] / trades['Buy Price'].iloc[0]) ** (1 / investment_period_years)) - 1\n",
    "cagr_buy_hold = ((buy_hold_exit / buy_hold_entry) ** (1 / investment_period_years)) - 1\n",
    "\n",
    "# Calculate Sharpe Ratio\n",
    "# Assuming risk-free rate as 0.25% annually\n",
    "risk_free_rate = 0.0025\n",
    "trading_returns = trades['Return'] / 100\n",
    "average_trading_return = trading_returns.mean()\n",
    "std_dev_trading = trading_returns.std()\n",
    "\n",
    "# Calculate Sharpe Ratio for strategy\n",
    "sharpe_ratio_trading = (average_trading_return - risk_free_rate) / std_dev_trading\n",
    "\n",
    "# Calculate Sharpe Ratio for Buy and Hold\n",
    "buy_hold_return_decimal = buy_hold_return / 100\n",
    "sharpe_ratio_buy_hold = (buy_hold_return_decimal / investment_period_years - risk_free_rate) / (buy_hold_return_decimal / np.sqrt(investment_period_years))\n",
    "\n",
    "cagr_trading, cagr_buy_hold, sharpe_ratio_trading, sharpe_ratio_buy_hold"
   ]
  }
 ],
 "metadata": {
  "kernelspec": {
   "display_name": ".venv",
   "language": "python",
   "name": "python3"
  },
  "language_info": {
   "codemirror_mode": {
    "name": "ipython",
    "version": 3
   },
   "file_extension": ".py",
   "mimetype": "text/x-python",
   "name": "python",
   "nbconvert_exporter": "python",
   "pygments_lexer": "ipython3",
   "version": "3.11.3"
  }
 },
 "nbformat": 4,
 "nbformat_minor": 2
}
